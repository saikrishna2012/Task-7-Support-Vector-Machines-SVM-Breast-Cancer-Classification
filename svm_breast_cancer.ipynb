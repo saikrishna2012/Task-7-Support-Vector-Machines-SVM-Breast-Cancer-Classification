{
  "nbformat": 4,
  "nbformat_minor": 0,
  "metadata": {
    "colab": {
      "provenance": []
    },
    "kernelspec": {
      "name": "python3",
      "display_name": "Python 3"
    },
    "language_info": {
      "name": "python"
    }
  },
  "cells": [
    {
      "cell_type": "code",
      "execution_count": 1,
      "metadata": {
        "colab": {
          "base_uri": "https://localhost:8080/"
        },
        "id": "zvze3yO47r1W",
        "outputId": "8bf23a07-cb45-4037-e326-38fb29f13ecd"
      },
      "outputs": [
        {
          "output_type": "stream",
          "name": "stdout",
          "text": [
            "Linear Kernel Accuracy: 0.956140350877193\n",
            "[[41  2]\n",
            " [ 3 68]]\n",
            "              precision    recall  f1-score   support\n",
            "\n",
            "           0       0.93      0.95      0.94        43\n",
            "           1       0.97      0.96      0.96        71\n",
            "\n",
            "    accuracy                           0.96       114\n",
            "   macro avg       0.95      0.96      0.95       114\n",
            "weighted avg       0.96      0.96      0.96       114\n",
            "\n",
            "RBF Kernel Accuracy: 0.9649122807017544\n",
            "[[41  2]\n",
            " [ 2 69]]\n",
            "              precision    recall  f1-score   support\n",
            "\n",
            "           0       0.95      0.95      0.95        43\n",
            "           1       0.97      0.97      0.97        71\n",
            "\n",
            "    accuracy                           0.96       114\n",
            "   macro avg       0.96      0.96      0.96       114\n",
            "weighted avg       0.96      0.96      0.96       114\n",
            "\n",
            "C=0.01, gamma=0.01, Accuracy=0.6274\n",
            "C=0.01, gamma=0.1, Accuracy=0.6274\n",
            "C=0.01, gamma=1, Accuracy=0.6274\n",
            "C=0.01, gamma=10, Accuracy=0.6274\n",
            "C=0.1, gamma=0.01, Accuracy=0.9473\n",
            "C=0.1, gamma=0.1, Accuracy=0.9350\n",
            "C=0.1, gamma=1, Accuracy=0.6274\n",
            "C=0.1, gamma=10, Accuracy=0.6274\n",
            "C=1, gamma=0.01, Accuracy=0.9666\n",
            "C=1, gamma=0.1, Accuracy=0.9596\n",
            "C=1, gamma=1, Accuracy=0.6309\n",
            "C=1, gamma=10, Accuracy=0.6274\n",
            "C=10, gamma=0.01, Accuracy=0.9789\n",
            "C=10, gamma=0.1, Accuracy=0.9473\n",
            "C=10, gamma=1, Accuracy=0.6362\n",
            "C=10, gamma=10, Accuracy=0.6274\n"
          ]
        }
      ],
      "source": [
        "import numpy as np\n",
        "import pandas as pd\n",
        "import matplotlib.pyplot as plt\n",
        "from sklearn.datasets import load_breast_cancer\n",
        "from sklearn.model_selection import train_test_split, cross_val_score\n",
        "from sklearn.preprocessing import StandardScaler\n",
        "from sklearn.svm import SVC\n",
        "from sklearn.metrics import accuracy_score, classification_report, confusion_matrix\n",
        "\n",
        "data = load_breast_cancer()\n",
        "X = pd.DataFrame(data.data, columns=data.feature_names)\n",
        "y = pd.Series(data.target)\n",
        "\n",
        "scaler = StandardScaler()\n",
        "X_scaled = scaler.fit_transform(X)\n",
        "\n",
        "X_train, X_test, y_train, y_test = train_test_split(X_scaled, y, test_size=0.2, random_state=42)\n",
        "\n",
        "svc_linear = SVC(kernel='linear', C=1.0)\n",
        "svc_linear.fit(X_train, y_train)\n",
        "y_pred_linear = svc_linear.predict(X_test)\n",
        "\n",
        "print(\"Linear Kernel Accuracy:\", accuracy_score(y_test, y_pred_linear))\n",
        "print(confusion_matrix(y_test, y_pred_linear))\n",
        "print(classification_report(y_test, y_pred_linear))\n",
        "\n",
        "svc_rbf = SVC(kernel='rbf', C=1.0, gamma=0.1)\n",
        "svc_rbf.fit(X_train, y_train)\n",
        "y_pred_rbf = svc_rbf.predict(X_test)\n",
        "\n",
        "print(\"RBF Kernel Accuracy:\", accuracy_score(y_test, y_pred_rbf))\n",
        "print(confusion_matrix(y_test, y_pred_rbf))\n",
        "print(classification_report(y_test, y_pred_rbf))\n",
        "\n",
        "c_values = [0.01, 0.1, 1, 10]\n",
        "gamma_values = [0.01, 0.1, 1, 10]\n",
        "\n",
        "for c in c_values:\n",
        "    for g in gamma_values:\n",
        "        model = SVC(kernel='rbf', C=c, gamma=g)\n",
        "        scores = cross_val_score(model, X_scaled, y, cv=5)\n",
        "        print(f\"C={c}, gamma={g}, Accuracy={scores.mean():.4f}\")\n"
      ]
    }
  ]
}